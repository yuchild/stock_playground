{
 "cells": [
  {
   "cell_type": "markdown",
   "id": "0be9b57b",
   "metadata": {},
   "source": [
    "## Build Functions for ELT"
   ]
  },
  {
   "cell_type": "code",
   "execution_count": 1,
   "id": "6da1a875",
   "metadata": {
    "scrolled": true
   },
   "outputs": [],
   "source": [
    "# Install Requirments (Updated on 9/13/2024)\n",
    "# !pip3 install -r requirements.txt"
   ]
  },
  {
   "cell_type": "code",
   "execution_count": 2,
   "id": "648f2df5",
   "metadata": {},
   "outputs": [],
   "source": [
    "import pandas as pd\n",
    "import numpy as np\n",
    "from yfinance import Ticker\n",
    "from pykalman import KalmanFilter\n",
    "\n",
    "from src import elt as et\n",
    "\n",
    "%load_ext autoreload\n",
    "%autoreload 2"
   ]
  },
  {
   "cell_type": "code",
   "execution_count": 140,
   "id": "ee7df301",
   "metadata": {},
   "outputs": [],
   "source": [
    "def download(symbol,interval,period):\n",
    "    stock = Ticker(symbol)\n",
    "    stock_df = stock.history(interval=interval,\n",
    "                             period=period,\n",
    "                             auto_adjust=False,\n",
    "                             prepost=True, # include aftermarket hours\n",
    "                            )\n",
    "    stock_df.columns = stock_df.columns.str.lower().str.replace(' ', '_')\n",
    "    stock_df.to_pickle(f'./data/{symbol}_{interval}_df.pkl')\n",
    "    \n",
    "def load(symbol,interval):\n",
    "    return pd.read_pickle(f'./data/{symbol}_{interval}_df.pkl')\n",
    "\n",
    "#########################################\n",
    "# functions for use to transform tables #\n",
    "#########################################\n",
    "\n",
    "# candle parts percentages\n",
    "def candle_parts_pcts(o, c, h, l):\n",
    "    full = h - l\n",
    "    if full == 0:\n",
    "        # If full is zero, return 0 for all components to avoid division by zero\n",
    "        return 0, 0, 0\n",
    "    body = abs(o - c)\n",
    "    if o > c:\n",
    "        top_wick = h - o\n",
    "        bottom_wick = c - l\n",
    "    else:\n",
    "        top_wick = h - c\n",
    "        bottom_wick = o - l\n",
    "    return top_wick / full, body / full, bottom_wick / full\n",
    "\n",
    "# previous close and open gap % of pervious candle size\n",
    "def gap_up_down_pct(o, pc, ph, pl):\n",
    "    if o == pc:\n",
    "        return 0\n",
    "    else:\n",
    "        return (o - pc) / (ph - pl)\n",
    "    \n",
    "    \n",
    "# z-score calculation\n",
    "def zscore(x, mu, stdev):\n",
    "    return (x - mu) / stdev\n",
    "\n",
    "# direction calculation:\n",
    "def direction(pctc, mean, stdev):\n",
    "    \n",
    "    pct_pos = mean + 0.43073 / 2 * stdev\n",
    "    pct_neg = mean - 0.43073 / 2 * stdev\n",
    "    if pctc >= pct_pos:\n",
    "        return 1\n",
    "    elif pctc <= pct_neg:\n",
    "        return 2\n",
    "    else:\n",
    "        return 0\n",
    "\n",
    "\n",
    "def transform(symbol, interval, period):\n",
    "    \n",
    "    if load(symbol, interval).shape[0] > 0:\n",
    "        df = load(symbol, interval)\n",
    "        \n",
    "    else:\n",
    "        download(symbol, interval, period)\n",
    "        df = load(symbol,interval)\n",
    "    \n",
    "    # Kalman filtering (noise reduction algorithm) \n",
    "    kf = KalmanFilter(transition_matrices = [1],\n",
    "                      observation_matrices = [1],\n",
    "                      initial_state_mean = 0,\n",
    "                      initial_state_covariance = 1,\n",
    "                      observation_covariance=1,\n",
    "                      transition_covariance=0.01\n",
    "                     )\n",
    "\n",
    "    state_means, _ = kf.filter(df['adj_close'].values)\n",
    "    state_means = pd.Series(state_means.flatten(), index=df.index)\n",
    "    df['kma'] = state_means\n",
    "    df['sma40'] = df['adj_close'].rolling(window=40).mean().copy()\n",
    "    df['kma_sma40_diff'] = (df['kma'] - df['sma40']).copy()\n",
    "    df['kma_sma40_diff_stdev21'] = df['kma_sma40_diff'].rolling(window=21).std().copy()\n",
    "    df['kma_sma40_diff_mu21'] = df['kma_sma40_diff'].rolling(window=21).mean().copy()\n",
    "\n",
    "    # Calculate Kalman Filter vs SMA40 difference z-score\n",
    "    df['kma_sma40_diff_z21'] = df.apply(lambda row: zscore(row['kma_sma40_diff'], row['kma_sma40_diff_mu21'], row['kma_sma40_diff_stdev21']), axis=1, result_type='expand').copy()\n",
    "\n",
    "    #update 1 day table: candle parts %'s\n",
    "    df[['pct_top_wick', 'pct_body', 'pct_bottom_wick']] = df.apply(lambda row: candle_parts_pcts(row['open'], row['close'], row['high'],  row['low']), axis=1, result_type='expand').copy()\n",
    "\n",
    "    #stdev of adjusted close\n",
    "    df['top_stdev21'] = df['pct_top_wick'].rolling(window=21).std().copy() \n",
    "    df['body_stdev21'] = df['pct_body'].rolling(window=21).std().copy() \n",
    "    df['bottom_stdev21'] = df['pct_bottom_wick'].rolling(window=21).std().copy()\n",
    "\n",
    "    #mean of adjusted close\n",
    "    df['top_mu21'] = df['pct_top_wick'].rolling(window=21).mean().copy() \n",
    "    df['body_mu21'] = df['pct_body'].rolling(window=21).mean().copy() \n",
    "    df['bottom_mu21'] = df['pct_bottom_wick'].rolling(window=21).mean().copy()\n",
    "\n",
    "    #z-score of adjusted close\n",
    "    df['top_z21'] = df.apply(lambda row: zscore(row['pct_top_wick'], row['top_mu21'], row['top_stdev21']), axis=1, result_type='expand').copy()\n",
    "    df['body_z21'] = df.apply(lambda row: zscore(row['pct_body'], row['body_mu21'], row['body_stdev21']), axis=1, result_type='expand').copy()\n",
    "    df['bottom_z21'] = df.apply(lambda row: zscore(row['pct_bottom_wick'], row['bottom_mu21'], row['bottom_stdev21']), axis=1, result_type='expand').copy()\n",
    "\n",
    "    #update 1 day table: % gap btwn current open relative to previous candle size\n",
    "    df['pc'] = df['close'].shift(1).copy()\n",
    "    df['ph'] = df['high'].shift(1).copy()\n",
    "    df['pl'] = df['low'].shift(1).copy()\n",
    "    df['pct_gap_up_down'] = df.apply(lambda row: gap_up_down_pct(row['open'], row['pc'], row['ph'], row['pl']), axis=1, result_type='expand').copy()\n",
    "\n",
    "    #stdev of adjusted close\n",
    "    df['ac_stdev5'] = df['adj_close'].rolling(window=5).std().copy() \n",
    "    df['ac_stdev8'] = df['adj_close'].rolling(window=8).std().copy() \n",
    "    df['ac_stdev13'] = df['adj_close'].rolling(window=13).std().copy()\n",
    "\n",
    "    #mean of adjusted close\n",
    "    df['ac_mu5'] = df['adj_close'].rolling(window=5).mean().copy() \n",
    "    df['ac_mu8'] = df['adj_close'].rolling(window=8).mean().copy() \n",
    "    df['ac_mu13'] = df['adj_close'].rolling(window=13).mean().copy()\n",
    "\n",
    "    #z-score of adjusted close\n",
    "    df['ac_z5'] = df.apply(lambda row: zscore(row['adj_close'], row['ac_mu5'], row['ac_stdev5']), axis=1, result_type='expand').copy()\n",
    "    df['ac_z8'] = df.apply(lambda row: zscore(row['adj_close'], row['ac_mu8'], row['ac_stdev8']), axis=1, result_type='expand').copy()\n",
    "    df['ac_z13'] = df.apply(lambda row: zscore(row['adj_close'], row['ac_mu13'], row['ac_stdev13']), axis=1, result_type='expand').copy()\n",
    "\n",
    "    #target column: direction: -1, 0, 1\n",
    "    df['adj_close_pctc'] = df['adj_close'].pct_change()\n",
    "    mean = df['adj_close_pctc'].mean()\n",
    "    stdev = df['adj_close_pctc'].std()\n",
    "    df['direction'] = df.apply(lambda row: direction(row['adj_close_pctc'], mean, stdev), axis=1, result_type='expand').copy() \n",
    "\n",
    "    #save 1d file for model building\n",
    "    df[['top_z21', \n",
    "        'body_z21', \n",
    "        'bottom_z21',\n",
    "        'top_z21',\n",
    "        'body_z21',\n",
    "        'bottom_z21',\n",
    "        'pct_gap_up_down',\n",
    "        'ac_z5',\n",
    "        'ac_z8',\n",
    "        'ac_z13',\n",
    "        'kma_sma40_diff_z21',\n",
    "        'adj_close',\n",
    "        'direction',\n",
    "       ]\n",
    "      ].to_pickle(f'./models/{symbol}_{interval}_model_df.pkl')"
   ]
  },
  {
   "cell_type": "code",
   "execution_count": null,
   "id": "85caed2a",
   "metadata": {},
   "outputs": [],
   "source": []
  },
  {
   "cell_type": "code",
   "execution_count": 141,
   "id": "0ce9f1dd",
   "metadata": {
    "scrolled": false
   },
   "outputs": [
    {
     "name": "stdout",
     "output_type": "stream",
     "text": [
      "<class 'pandas.core.frame.DataFrame'>\n",
      "DatetimeIndex: 1281 entries, 2024-08-19 04:00:00-04:00 to 2024-09-16 20:00:00-04:00\n",
      "Data columns (total 8 columns):\n",
      " #   Column        Non-Null Count  Dtype  \n",
      "---  ------        --------------  -----  \n",
      " 0   open          1281 non-null   float64\n",
      " 1   high          1281 non-null   float64\n",
      " 2   low           1281 non-null   float64\n",
      " 3   close         1281 non-null   float64\n",
      " 4   adj_close     1281 non-null   float64\n",
      " 5   volume        1281 non-null   int64  \n",
      " 6   dividends     1281 non-null   float64\n",
      " 7   stock_splits  1281 non-null   float64\n",
      "dtypes: float64(7), int64(1)\n",
      "memory usage: 90.1 KB\n"
     ]
    }
   ],
   "source": [
    "download('NVDA', '15m', '1mo')\n",
    "df = load('NVDA', '15m')\n",
    "df.info()"
   ]
  },
  {
   "cell_type": "code",
   "execution_count": 142,
   "id": "51b83af8",
   "metadata": {},
   "outputs": [
    {
     "data": {
      "text/plain": [
       "Index(['open', 'high', 'low', 'close', 'adj_close', 'volume', 'dividends',\n",
       "       'stock_splits'],\n",
       "      dtype='object')"
      ]
     },
     "execution_count": 142,
     "metadata": {},
     "output_type": "execute_result"
    }
   ],
   "source": [
    "df.columns"
   ]
  },
  {
   "cell_type": "code",
   "execution_count": 143,
   "id": "daa6f616",
   "metadata": {},
   "outputs": [],
   "source": [
    "transform('NVDA','15m','1mo')"
   ]
  },
  {
   "cell_type": "code",
   "execution_count": 144,
   "id": "7fa99a5b",
   "metadata": {},
   "outputs": [],
   "source": [
    "nvda_model_df = pd.read_pickle('./models/NVDA_15m_model_df.pkl')"
   ]
  },
  {
   "cell_type": "code",
   "execution_count": 145,
   "id": "b269f6dc",
   "metadata": {},
   "outputs": [
    {
     "data": {
      "text/plain": [
       "direction\n",
       "0    441\n",
       "1    431\n",
       "2    409\n",
       "Name: count, dtype: int64"
      ]
     },
     "execution_count": 145,
     "metadata": {},
     "output_type": "execute_result"
    }
   ],
   "source": [
    "nvda_model_df.direction.value_counts()"
   ]
  },
  {
   "cell_type": "code",
   "execution_count": 146,
   "id": "f133665a",
   "metadata": {},
   "outputs": [
    {
     "name": "stdout",
     "output_type": "stream",
     "text": [
      "<class 'pandas.core.frame.DataFrame'>\n",
      "DatetimeIndex: 1281 entries, 2024-08-19 04:00:00-04:00 to 2024-09-16 20:00:00-04:00\n",
      "Data columns (total 13 columns):\n",
      " #   Column              Non-Null Count  Dtype  \n",
      "---  ------              --------------  -----  \n",
      " 0   top_z21             1261 non-null   float64\n",
      " 1   body_z21            1261 non-null   float64\n",
      " 2   bottom_z21          1261 non-null   float64\n",
      " 3   top_z21             1261 non-null   float64\n",
      " 4   body_z21            1261 non-null   float64\n",
      " 5   bottom_z21          1261 non-null   float64\n",
      " 6   pct_gap_up_down     1280 non-null   float64\n",
      " 7   ac_z5               1277 non-null   float64\n",
      " 8   ac_z8               1274 non-null   float64\n",
      " 9   ac_z13              1269 non-null   float64\n",
      " 10  kma_sma40_diff_z21  1222 non-null   float64\n",
      " 11  adj_close           1281 non-null   float64\n",
      " 12  direction           1281 non-null   int64  \n",
      "dtypes: float64(12), int64(1)\n",
      "memory usage: 140.1 KB\n"
     ]
    }
   ],
   "source": [
    "nvda_model_df.info()"
   ]
  },
  {
   "cell_type": "code",
   "execution_count": null,
   "id": "be3cd0aa",
   "metadata": {},
   "outputs": [],
   "source": []
  },
  {
   "cell_type": "code",
   "execution_count": null,
   "id": "de61634a",
   "metadata": {},
   "outputs": [],
   "source": []
  },
  {
   "cell_type": "code",
   "execution_count": null,
   "id": "602731bb",
   "metadata": {},
   "outputs": [],
   "source": []
  },
  {
   "cell_type": "code",
   "execution_count": null,
   "id": "f129dca2",
   "metadata": {},
   "outputs": [],
   "source": []
  },
  {
   "cell_type": "code",
   "execution_count": null,
   "id": "06bd6a29",
   "metadata": {},
   "outputs": [],
   "source": []
  },
  {
   "cell_type": "code",
   "execution_count": null,
   "id": "88c7af76",
   "metadata": {},
   "outputs": [],
   "source": []
  },
  {
   "cell_type": "code",
   "execution_count": null,
   "id": "5f5c6954",
   "metadata": {},
   "outputs": [],
   "source": []
  },
  {
   "cell_type": "code",
   "execution_count": null,
   "id": "af46966f",
   "metadata": {},
   "outputs": [],
   "source": []
  },
  {
   "cell_type": "code",
   "execution_count": null,
   "id": "32e33359",
   "metadata": {},
   "outputs": [],
   "source": []
  },
  {
   "cell_type": "code",
   "execution_count": null,
   "id": "3ba2e1aa",
   "metadata": {},
   "outputs": [],
   "source": []
  },
  {
   "cell_type": "code",
   "execution_count": null,
   "id": "0abd59e4",
   "metadata": {},
   "outputs": [],
   "source": []
  },
  {
   "cell_type": "code",
   "execution_count": null,
   "id": "a650f60a",
   "metadata": {},
   "outputs": [],
   "source": []
  },
  {
   "cell_type": "code",
   "execution_count": null,
   "id": "66fdb9a4",
   "metadata": {},
   "outputs": [],
   "source": []
  },
  {
   "cell_type": "code",
   "execution_count": null,
   "id": "b25e286e",
   "metadata": {},
   "outputs": [],
   "source": []
  },
  {
   "cell_type": "code",
   "execution_count": null,
   "id": "f7554b36",
   "metadata": {},
   "outputs": [],
   "source": []
  },
  {
   "cell_type": "code",
   "execution_count": null,
   "id": "2a7e712a",
   "metadata": {},
   "outputs": [],
   "source": []
  }
 ],
 "metadata": {
  "kernelspec": {
   "display_name": "myenv",
   "language": "python",
   "name": "myenv"
  },
  "language_info": {
   "codemirror_mode": {
    "name": "ipython",
    "version": 3
   },
   "file_extension": ".py",
   "mimetype": "text/x-python",
   "name": "python",
   "nbconvert_exporter": "python",
   "pygments_lexer": "ipython3",
   "version": "3.12.3"
  }
 },
 "nbformat": 4,
 "nbformat_minor": 5
}
